{
  "nbformat": 4,
  "nbformat_minor": 0,
  "metadata": {
    "colab": {
      "name": "distillation.ipynb",
      "provenance": [],
      "collapsed_sections": []
    },
    "kernelspec": {
      "name": "python3",
      "display_name": "Python 3"
    },
    "accelerator": "GPU"
  },
  "cells": [
    {
      "cell_type": "markdown",
      "metadata": {
        "id": "E20iEpB1qB_U",
        "colab_type": "text"
      },
      "source": [
        "Importing libraries"
      ]
    },
    {
      "cell_type": "code",
      "metadata": {
        "id": "qKXEF8f3moEd",
        "colab_type": "code",
        "colab": {}
      },
      "source": [
        "# Import pytorch basic functions/classes\n",
        "import torch\n",
        "import torch.nn as nn\n",
        "import torch.nn.functional as F\n",
        "import torch.optim as optim\n",
        "\n",
        "# Import torchvision functions/classes for MNIST import and data loaders\n",
        "import torchvision\n",
        "import torchvision.transforms as transforms\n",
        "\n",
        "# Other imports\n",
        "import pandas as pd\n",
        "import seaborn as sn\n",
        "\n",
        "# Set device on which code is run\n",
        "device = 'cuda'"
      ],
      "execution_count": 0,
      "outputs": []
    },
    {
      "cell_type": "markdown",
      "metadata": {
        "id": "Jl08sOn-p-WI",
        "colab_type": "text"
      },
      "source": [
        "Defining support functions"
      ]
    },
    {
      "cell_type": "code",
      "metadata": {
        "id": "JQZ1UPkh2iN-",
        "colab_type": "code",
        "colab": {}
      },
      "source": [
        "# Define support function used to convert label to one-hot encoded tensor\n",
        "def convert_labels(labels):\n",
        "    target = torch.zeros([len(labels), 10], dtype=torch.float32)\n",
        "    for i, l in enumerate(labels):\n",
        "      target[i][l] = 1.0\n",
        "    return target"
      ],
      "execution_count": 0,
      "outputs": []
    },
    {
      "cell_type": "markdown",
      "metadata": {
        "id": "MepCPdkTqMD3",
        "colab_type": "text"
      },
      "source": [
        "Define our network model (the hidden layers size is specified through the constructor)"
      ]
    },
    {
      "cell_type": "code",
      "metadata": {
        "id": "JCFrlhvun-U_",
        "colab_type": "code",
        "colab": {}
      },
      "source": [
        "# Define MLP model and its layers\n",
        "class Model(nn.Module):\n",
        "\n",
        "    def __init__(self, hidden_size=1200, dropout=0.0, hidden_dropout=0.0):\n",
        "        super(Model, self).__init__()\n",
        "        self.dropout = nn.Dropout(dropout)\n",
        "        self.hidden1 = nn.Linear(784, hidden_size, bias=True)\n",
        "        self.hidden1_dropout = nn.Dropout(hidden_dropout)\n",
        "        self.hidden2 = nn.Linear(hidden_size, hidden_size, bias=True)\n",
        "        self.hidden2_dropout = nn.Dropout(hidden_dropout)\n",
        "        self.hidden3 = nn.Linear(hidden_size, 10, bias=True)\n",
        "\n",
        "    def forward(self, x):\n",
        "\n",
        "        x = self.dropout(x)\n",
        "        x = F.relu(self.hidden1(x))\n",
        "        x = self.hidden1_dropout(x)\n",
        "        x = F.relu(self.hidden2(x))\n",
        "        x = self.hidden2_dropout(x)\n",
        "        x = self.hidden3(x)\n",
        "        return x#, F.softmax(x)"
      ],
      "execution_count": 0,
      "outputs": []
    },
    {
      "cell_type": "markdown",
      "metadata": {
        "id": "VwzMAeT7qZCW",
        "colab_type": "text"
      },
      "source": [
        "Downloading MNIST dataset"
      ]
    },
    {
      "cell_type": "code",
      "metadata": {
        "id": "ONsjY_Fmpe0t",
        "colab_type": "code",
        "outputId": "e8ed5f07-388c-4089-84b1-14cbf02151f3",
        "colab": {
          "base_uri": "https://localhost:8080/",
          "height": 88
        }
      },
      "source": [
        "# Define transform from PIL image to tensor and normalize to 1x768 pixels\n",
        "train_transform = transforms.Compose([\n",
        "  transforms.RandomAffine(0, (1/14, 1/14)),\n",
        "  transforms.ToTensor(),\n",
        "  transforms.Normalize((0.5,), (0.5,))\n",
        "])\n",
        "\n",
        "test_transform = transforms.Compose([\n",
        "  transforms.ToTensor(),\n",
        "  transforms.Normalize((0.5,), (0.5,))\n",
        "])\n",
        "\n",
        "# Set batch size for data loaders\n",
        "batch_size = 128\n",
        "\n",
        "# (Down)load training set\n",
        "trainset = torchvision.datasets.MNIST(root='./data', train=True, download=True, transform=train_transform)\n",
        "trainloader = torch.utils.data.DataLoader(trainset, batch_size=batch_size, shuffle=True, num_workers=2)\n",
        "\n",
        "# (Down)load test set\n",
        "testset = torchvision.datasets.MNIST(root='./data', train=False, download=True, transform=test_transform)\n",
        "testloader = torch.utils.data.DataLoader(testset, batch_size=batch_size, shuffle=False, num_workers=2)\n",
        "\n",
        "# (Down)load training set without a specific digit\n",
        "trainset_noDigit = torchvision.datasets.MNIST(root='./data', train=True, download=True)\n",
        "\n",
        "#   Set here the digit to exclude\n",
        "idx = trainset_noDigit.train_labels!=3\n",
        "\n",
        "trainset_noDigit.targets = trainset_noDigit.targets[idx]\n",
        "trainset_noDigit.data = trainset_noDigit.data[idx]\n",
        "trainset_noDigit.transform = train_transform\n",
        "\n",
        "trainloader_noDigit = torch.utils.data.DataLoader(trainset_noDigit, batch_size=batch_size, shuffle=True, num_workers=2)\n",
        "\n",
        "'''examples = enumerate(trainloader)\n",
        "batch_idx, (example_data, example_targets) = next(examples)\n",
        "\n",
        "import matplotlib.pyplot as plt\n",
        "\n",
        "fig = plt.figure()\n",
        "for i in range(6):\n",
        "  plt.subplot(2,3,i+1)\n",
        "  plt.tight_layout()\n",
        "  plt.imshow(example_data[i][0], cmap='gray', interpolation='none')\n",
        "  plt.title(\"Ground Truth: {}\".format(example_targets[i]))\n",
        "  plt.xticks([])\n",
        "  plt.yticks([])\n",
        "#fig'''"
      ],
      "execution_count": 61,
      "outputs": [
        {
          "output_type": "stream",
          "text": [
            "/usr/local/lib/python3.6/dist-packages/torchvision/datasets/mnist.py:45: UserWarning: train_labels has been renamed targets\n",
            "  warnings.warn(\"train_labels has been renamed targets\")\n"
          ],
          "name": "stderr"
        },
        {
          "output_type": "execute_result",
          "data": {
            "text/plain": [
              "'examples = enumerate(trainloader)\\nbatch_idx, (example_data, example_targets) = next(examples)\\n\\nimport matplotlib.pyplot as plt\\n\\nfig = plt.figure()\\nfor i in range(6):\\n  plt.subplot(2,3,i+1)\\n  plt.tight_layout()\\n  plt.imshow(example_data[i][0], cmap=\\'gray\\', interpolation=\\'none\\')\\n  plt.title(\"Ground Truth: {}\".format(example_targets[i]))\\n  plt.xticks([])\\n  plt.yticks([])\\n#fig'"
            ]
          },
          "metadata": {
            "tags": []
          },
          "execution_count": 61
        }
      ]
    },
    {
      "cell_type": "markdown",
      "metadata": {
        "id": "tdksm3J5qfzu",
        "colab_type": "text"
      },
      "source": [
        "Training the Deep Teacher Neural Network"
      ]
    },
    {
      "cell_type": "code",
      "metadata": {
        "id": "6rOCDtvFrTa4",
        "colab_type": "code",
        "outputId": "1f354ac1-6957-42bb-d2b1-00a730989cda",
        "colab": {
          "base_uri": "https://localhost:8080/",
          "height": 1000
        }
      },
      "source": [
        "# Setup model and move it to the GPU\n",
        "net = Model(dropout=0.2, hidden_dropout=0.5)\n",
        "net.to(device)\n",
        "\n",
        "# Set up loss function and optimizer: \n",
        "#     using cross entropy loss because it's better for classification task\n",
        "\n",
        "learning_rate = 0.01\n",
        "criterion = torch.nn.CrossEntropyLoss()\n",
        "optimizer = optim.SGD(net.parameters(), lr= learning_rate, momentum=0.9)\n",
        "#optimizer = torch.optim.Adam(net.parameters(), lr=0.0001, weight_decay=0.00001)\n",
        "\n",
        "# Run over 100 epochs (1 epoch = visited all items in dataset)\n",
        "for epoch in range(200):\n",
        "\n",
        "    running_loss = 0.0\n",
        "    total = 0\n",
        "\n",
        "    if(epoch%20 == 0 and epoch != 0):\n",
        "\n",
        "      learning_rate = learning_rate * 0.5 #- (0.001) # or maybe decrease by (learning_rate * 0.1)\n",
        "      optimizer = optim.SGD(net.parameters(), lr= learning_rate, momentum=0.9)\n",
        "\n",
        "    for i, data in enumerate(trainloader, 0):\n",
        "        \n",
        "\n",
        "        # get the inputs; data is a list of [inputs, labels]\n",
        "        inputs, labels = data\n",
        "        inputs = torch.flatten(inputs, start_dim=1).to(device)\n",
        "\n",
        "        # This for not cross entropy\n",
        "        #target = convert_labels(labels).to(device)\n",
        "\n",
        "        # zero the parameter gradients\n",
        "        optimizer.zero_grad()\n",
        "\n",
        "        # forward + backward + optimize\n",
        "        outputs = net(inputs)\n",
        "        target = labels.to(device).long()\n",
        "        loss = criterion(outputs, target)\n",
        "        loss.backward()\n",
        "        optimizer.step()\n",
        "\n",
        "        total += len(data)\n",
        "\n",
        "        # print statistics\n",
        "        running_loss += loss.item()\n",
        "    # print every epoch\n",
        "    print('[%d] loss: %.3f' % (epoch + 1, running_loss / total))\n",
        "\n",
        "print('Finished Training')\n",
        "\n",
        "# Save model after having finished training\n",
        "PATH = './mnist_dropout_100_epoch.pth'\n",
        "torch.save(net.state_dict(), PATH)\n",
        "\n",
        "print('Saved Model')"
      ],
      "execution_count": 62,
      "outputs": [
        {
          "output_type": "stream",
          "text": [
            "[1] loss: 0.518\n",
            "[2] loss: 0.265\n",
            "[3] loss: 0.200\n",
            "[4] loss: 0.174\n",
            "[5] loss: 0.153\n",
            "[6] loss: 0.141\n",
            "[7] loss: 0.131\n",
            "[8] loss: 0.123\n",
            "[9] loss: 0.117\n",
            "[10] loss: 0.111\n",
            "[11] loss: 0.106\n",
            "[12] loss: 0.101\n",
            "[13] loss: 0.098\n",
            "[14] loss: 0.094\n",
            "[15] loss: 0.090\n",
            "[16] loss: 0.090\n",
            "[17] loss: 0.087\n",
            "[18] loss: 0.086\n",
            "[19] loss: 0.084\n",
            "[20] loss: 0.081\n",
            "[21] loss: 0.071\n",
            "[22] loss: 0.070\n",
            "[23] loss: 0.069\n",
            "[24] loss: 0.069\n",
            "[25] loss: 0.067\n",
            "[26] loss: 0.067\n",
            "[27] loss: 0.065\n",
            "[28] loss: 0.064\n",
            "[29] loss: 0.064\n",
            "[30] loss: 0.062\n",
            "[31] loss: 0.064\n",
            "[32] loss: 0.062\n",
            "[33] loss: 0.063\n",
            "[34] loss: 0.062\n",
            "[35] loss: 0.062\n",
            "[36] loss: 0.060\n",
            "[37] loss: 0.059\n",
            "[38] loss: 0.060\n",
            "[39] loss: 0.060\n",
            "[40] loss: 0.058\n",
            "[41] loss: 0.055\n",
            "[42] loss: 0.056\n",
            "[43] loss: 0.055\n",
            "[44] loss: 0.056\n",
            "[45] loss: 0.053\n",
            "[46] loss: 0.051\n",
            "[47] loss: 0.054\n",
            "[48] loss: 0.052\n",
            "[49] loss: 0.052\n",
            "[50] loss: 0.052\n",
            "[51] loss: 0.052\n",
            "[52] loss: 0.051\n",
            "[53] loss: 0.053\n",
            "[54] loss: 0.051\n",
            "[55] loss: 0.050\n",
            "[56] loss: 0.053\n",
            "[57] loss: 0.052\n",
            "[58] loss: 0.051\n",
            "[59] loss: 0.050\n",
            "[60] loss: 0.050\n",
            "[61] loss: 0.050\n",
            "[62] loss: 0.048\n",
            "[63] loss: 0.048\n",
            "[64] loss: 0.049\n",
            "[65] loss: 0.049\n",
            "[66] loss: 0.047\n",
            "[67] loss: 0.049\n",
            "[68] loss: 0.047\n",
            "[69] loss: 0.048\n",
            "[70] loss: 0.049\n",
            "[71] loss: 0.047\n",
            "[72] loss: 0.048\n",
            "[73] loss: 0.048\n",
            "[74] loss: 0.046\n",
            "[75] loss: 0.048\n",
            "[76] loss: 0.046\n",
            "[77] loss: 0.048\n",
            "[78] loss: 0.048\n",
            "[79] loss: 0.047\n",
            "[80] loss: 0.048\n",
            "[81] loss: 0.046\n",
            "[82] loss: 0.048\n",
            "[83] loss: 0.045\n",
            "[84] loss: 0.047\n",
            "[85] loss: 0.047\n",
            "[86] loss: 0.046\n",
            "[87] loss: 0.046\n",
            "[88] loss: 0.048\n",
            "[89] loss: 0.045\n",
            "[90] loss: 0.046\n",
            "[91] loss: 0.046\n",
            "[92] loss: 0.046\n",
            "[93] loss: 0.046\n",
            "[94] loss: 0.046\n",
            "[95] loss: 0.045\n",
            "[96] loss: 0.046\n",
            "[97] loss: 0.045\n",
            "[98] loss: 0.046\n",
            "[99] loss: 0.045\n",
            "[100] loss: 0.045\n",
            "[101] loss: 0.045\n",
            "[102] loss: 0.044\n",
            "[103] loss: 0.045\n",
            "[104] loss: 0.045\n",
            "[105] loss: 0.045\n",
            "[106] loss: 0.045\n",
            "[107] loss: 0.045\n",
            "[108] loss: 0.045\n",
            "[109] loss: 0.044\n",
            "[110] loss: 0.046\n",
            "[111] loss: 0.045\n",
            "[112] loss: 0.044\n",
            "[113] loss: 0.046\n",
            "[114] loss: 0.044\n",
            "[115] loss: 0.045\n",
            "[116] loss: 0.044\n",
            "[117] loss: 0.045\n",
            "[118] loss: 0.046\n",
            "[119] loss: 0.044\n",
            "[120] loss: 0.045\n",
            "[121] loss: 0.044\n",
            "[122] loss: 0.045\n",
            "[123] loss: 0.044\n",
            "[124] loss: 0.044\n",
            "[125] loss: 0.045\n",
            "[126] loss: 0.044\n",
            "[127] loss: 0.044\n",
            "[128] loss: 0.045\n",
            "[129] loss: 0.044\n",
            "[130] loss: 0.044\n",
            "[131] loss: 0.044\n",
            "[132] loss: 0.043\n",
            "[133] loss: 0.044\n",
            "[134] loss: 0.045\n",
            "[135] loss: 0.044\n",
            "[136] loss: 0.044\n",
            "[137] loss: 0.046\n",
            "[138] loss: 0.044\n",
            "[139] loss: 0.045\n",
            "[140] loss: 0.044\n",
            "[141] loss: 0.045\n",
            "[142] loss: 0.044\n",
            "[143] loss: 0.045\n",
            "[144] loss: 0.043\n",
            "[145] loss: 0.044\n",
            "[146] loss: 0.045\n",
            "[147] loss: 0.045\n",
            "[148] loss: 0.044\n",
            "[149] loss: 0.045\n",
            "[150] loss: 0.044\n",
            "[151] loss: 0.045\n",
            "[152] loss: 0.045\n",
            "[153] loss: 0.044\n",
            "[154] loss: 0.044\n",
            "[155] loss: 0.044\n",
            "[156] loss: 0.045\n",
            "[157] loss: 0.045\n",
            "[158] loss: 0.044\n",
            "[159] loss: 0.044\n",
            "[160] loss: 0.044\n",
            "[161] loss: 0.046\n",
            "[162] loss: 0.045\n",
            "[163] loss: 0.044\n",
            "[164] loss: 0.043\n",
            "[165] loss: 0.045\n",
            "[166] loss: 0.044\n",
            "[167] loss: 0.045\n",
            "[168] loss: 0.045\n",
            "[169] loss: 0.046\n",
            "[170] loss: 0.044\n",
            "[171] loss: 0.044\n",
            "[172] loss: 0.043\n",
            "[173] loss: 0.044\n",
            "[174] loss: 0.044\n",
            "[175] loss: 0.044\n",
            "[176] loss: 0.043\n",
            "[177] loss: 0.044\n",
            "[178] loss: 0.044\n",
            "[179] loss: 0.043\n",
            "[180] loss: 0.044\n",
            "[181] loss: 0.044\n",
            "[182] loss: 0.044\n",
            "[183] loss: 0.044\n",
            "[184] loss: 0.044\n",
            "[185] loss: 0.044\n",
            "[186] loss: 0.045\n",
            "[187] loss: 0.044\n",
            "[188] loss: 0.044\n",
            "[189] loss: 0.045\n",
            "[190] loss: 0.044\n",
            "[191] loss: 0.044\n",
            "[192] loss: 0.044\n",
            "[193] loss: 0.043\n",
            "[194] loss: 0.045\n",
            "[195] loss: 0.045\n",
            "[196] loss: 0.043\n",
            "[197] loss: 0.044\n",
            "[198] loss: 0.043\n",
            "[199] loss: 0.045\n",
            "[200] loss: 0.044\n",
            "Finished Training\n",
            "Saved Model\n"
          ],
          "name": "stdout"
        }
      ]
    },
    {
      "cell_type": "markdown",
      "metadata": {
        "id": "W2Xqz-DlqmCT",
        "colab_type": "text"
      },
      "source": [
        "Run Deep Teacher model on test set"
      ]
    },
    {
      "cell_type": "code",
      "metadata": {
        "id": "gI5BL9YF2dzp",
        "colab_type": "code",
        "outputId": "84519b70-4738-49e6-9fb0-9f274e4ad117",
        "colab": {
          "base_uri": "https://localhost:8080/",
          "height": 653
        }
      },
      "source": [
        "# Instantiate model and load saved network parameters\n",
        "net = Model().to(device)\n",
        "net.load_state_dict(torch.load(PATH))\n",
        "\n",
        "# Run model on test set and determine accuracy\n",
        "correct = 0\n",
        "total = 0\n",
        "wrong = np.zeros((10,10))\n",
        "\n",
        "with torch.no_grad():\n",
        "    for data in testloader:\n",
        "        inputs, labels = data\n",
        "        inputs = torch.flatten(inputs, start_dim=1).to(device)\n",
        "        target = convert_labels(labels).to(device)\n",
        "        outputs = net(inputs)\n",
        "        _, predicted = torch.max(outputs.data, 1)\n",
        "        _, target = torch.max(target.data, 1)\n",
        "        total += target.size(0)\n",
        "        correct += (predicted == target).sum().item()\n",
        "        for i, val in enumerate(predicted):\n",
        "          if val != target[i]:\n",
        "            wrong[target[i]][val] += 1\n",
        "\n",
        "# Output model accuracy to user\n",
        "print('Accuracy of the network on the 10000 test images: %d %% (%d wrong out of %d)' % (\n",
        "    100 * correct / total, total - correct, total))\n",
        "print(\" \"+str([0,1,2,3,4,5,6,7,8,9]))\n",
        "print(wrong)\n",
        "\n",
        "# Plot confusion matrix\n",
        "df_cm = pd.DataFrame(wrong, index = [i for i in \"0123456789\"],\n",
        "                  columns = [i for i in \"0123456789\"])\n",
        "plt.figure(figsize = (10,7))\n",
        "sn.heatmap(df_cm, annot=True)"
      ],
      "execution_count": 63,
      "outputs": [
        {
          "output_type": "stream",
          "text": [
            "Accuracy of the network on the 10000 test images: 99 % (91 wrong out of 10000)\n",
            " [0, 1, 2, 3, 4, 5, 6, 7, 8, 9]\n",
            "[[0. 1. 0. 0. 0. 0. 3. 1. 1. 0.]\n",
            " [0. 0. 1. 0. 0. 0. 1. 0. 0. 0.]\n",
            " [2. 1. 0. 1. 1. 0. 0. 5. 0. 0.]\n",
            " [0. 0. 1. 0. 0. 3. 0. 3. 2. 1.]\n",
            " [0. 0. 0. 0. 0. 0. 3. 0. 0. 3.]\n",
            " [2. 0. 0. 5. 1. 0. 2. 1. 0. 0.]\n",
            " [2. 2. 0. 0. 2. 1. 0. 0. 0. 0.]\n",
            " [0. 3. 5. 0. 1. 0. 0. 0. 0. 2.]\n",
            " [1. 0. 1. 1. 0. 2. 0. 2. 0. 1.]\n",
            " [0. 2. 0. 2. 8. 2. 0. 5. 1. 0.]]\n"
          ],
          "name": "stdout"
        },
        {
          "output_type": "execute_result",
          "data": {
            "text/plain": [
              "<matplotlib.axes._subplots.AxesSubplot at 0x7fac3055ada0>"
            ]
          },
          "metadata": {
            "tags": []
          },
          "execution_count": 63
        },
        {
          "output_type": "display_data",
          "data": {
            "image/png": "[encoded data removed]",
            "text/plain": [
              "<Figure size 720x504 with 2 Axes>"
            ]
          },
          "metadata": {
            "tags": [],
            "needs_background": "light"
          }
        }
      ]
    },
    {
      "cell_type": "markdown",
      "metadata": {
        "id": "bigRhVYyqvL1",
        "colab_type": "text"
      },
      "source": [
        "Train student model to mimic the teacher"
      ]
    },
    {
      "cell_type": "code",
      "metadata": {
        "id": "VOPgLsQ6D3Lj",
        "colab_type": "code",
        "outputId": "30ca0583-6d75-4ace-c3f5-01adb522ce92",
        "colab": {
          "base_uri": "https://localhost:8080/",
          "height": 1000
        }
      },
      "source": [
        "import numpy as np\n",
        "# Custom student loss: linear combination of 2 cross-entropy losses\n",
        "#     The first one between student output and hard labels\n",
        "#     The second one between student output and soft labels from teacher\n",
        "\n",
        "def student_loss(outputs, labels, teacher_outputs, alpha, temperature):\n",
        "\n",
        "    #loss = torch.mean((weight*(outputA - targetA)**2) + (1-weight)*(outputB-targetB)**2)\n",
        "\n",
        "    #loss = weight*(F.cross_entropy(outputA, targetA)) + (1-weight)*(F.cross_entropy(outputB, targetB))\n",
        "\n",
        "    KD_loss = nn.KLDivLoss()(F.log_softmax(outputs/T, dim=1),\n",
        "                             F.softmax(teacher_outputs/T, dim=1)) * (alpha * T * T) + \\\n",
        "              F.cross_entropy(outputs, labels) * (1. - alpha)\n",
        "\n",
        "    return KD_loss\n",
        "\n",
        "# Setup student model and move it to the GPU\n",
        "student_net = Model(hidden_size = 800)\n",
        "student_net.to(device)\n",
        "\n",
        "# Set up loss function and optimizer\n",
        "\n",
        "optimizer = optim.SGD(student_net.parameters(), lr=0.001, momentum=0.9)\n",
        "#optimizer = torch.optim.Adam(student_net.parameters(), lr=0.0001)\n",
        "\n",
        "# Run over 100 epochs (1 epoch = visited all items in dataset)\n",
        "for epoch in range(100):\n",
        "    running_loss = 0.0\n",
        "    total = 0\n",
        "    for i, data in enumerate(trainloader, 0):\n",
        "        # get the inputs; data is a list of [inputs, labels]\n",
        "        inputs, labels = data\n",
        "        inputs = torch.flatten(inputs, start_dim=1).to(device)\n",
        "        target = labels.to(device).long() #convert_labels(labels).to(device)\n",
        "        \n",
        "        # zero the parameter gradients\n",
        "        optimizer.zero_grad()\n",
        "\n",
        "        # Set temperature and the weights for losses linear combination\n",
        "        w = 0.3\n",
        "        T = 20\n",
        "\n",
        "        # Compute soft labels using deep teacher model previously trained\n",
        "        outputs_teacher = net(inputs)\n",
        "        #soft_labels = F.softmax(outputs_teacher/T, dim = 1)\n",
        "\n",
        "        # Abomination to obtain hard_labels for custom cross entropy loss\n",
        "        #teacher_hard_labels = torch.from_numpy(np.array([np.argmax(l.cpu().detach().numpy()) for l in soft_labels])).to(device).long()\n",
        "\n",
        "        # Student forward + backward + optimize\n",
        "        outputs_stud = student_net(inputs)\n",
        "        #outputs_stud = F.softmax(output_stud/T, dim = 1)\n",
        "        \n",
        "        loss = student_loss(outputs_stud, target, outputs_teacher, w, T)\n",
        "        loss.backward()\n",
        "        optimizer.step()\n",
        "\n",
        "        total += len(data)\n",
        "\n",
        "        # print statistics\n",
        "        running_loss += loss.item()\n",
        "    # print every epoch\n",
        "    print('[%d] loss: %.3f' % (epoch + 1, running_loss / total))\n",
        "\n",
        "print('Finished Training')\n",
        "\n",
        "# Save model after having finished training\n",
        "STUD_PATH = './mnist_student_100_epoch.pth'\n",
        "torch.save(student_net.state_dict(), STUD_PATH)\n",
        "\n",
        "print('Saved Model')"
      ],
      "execution_count": 64,
      "outputs": [
        {
          "output_type": "stream",
          "text": [
            "/usr/local/lib/python3.6/dist-packages/torch/nn/functional.py:1958: UserWarning: reduction: 'mean' divides the total loss by both the batch size and the support size.'batchmean' divides only by the batch size, and aligns with the KL div math definition.'mean' will be changed to behave the same as 'batchmean' in the next major release.\n",
            "  warnings.warn(\"reduction: 'mean' divides the total loss by both the batch size and the support size.\"\n"
          ],
          "name": "stderr"
        },
        {
          "output_type": "stream",
          "text": [
            "[1] loss: 0.927\n",
            "[2] loss: 0.570\n",
            "[3] loss: 0.470\n",
            "[4] loss: 0.428\n",
            "[5] loss: 0.392\n",
            "[6] loss: 0.360\n",
            "[7] loss: 0.328\n",
            "[8] loss: 0.295\n",
            "[9] loss: 0.263\n",
            "[10] loss: 0.234\n",
            "[11] loss: 0.210\n",
            "[12] loss: 0.188\n",
            "[13] loss: 0.170\n",
            "[14] loss: 0.155\n",
            "[15] loss: 0.144\n",
            "[16] loss: 0.133\n",
            "[17] loss: 0.125\n",
            "[18] loss: 0.116\n",
            "[19] loss: 0.111\n",
            "[20] loss: 0.105\n",
            "[21] loss: 0.101\n",
            "[22] loss: 0.095\n",
            "[23] loss: 0.090\n",
            "[24] loss: 0.088\n",
            "[25] loss: 0.085\n",
            "[26] loss: 0.080\n",
            "[27] loss: 0.078\n",
            "[28] loss: 0.075\n",
            "[29] loss: 0.072\n",
            "[30] loss: 0.071\n",
            "[31] loss: 0.068\n",
            "[32] loss: 0.067\n",
            "[33] loss: 0.065\n",
            "[34] loss: 0.064\n",
            "[35] loss: 0.061\n",
            "[36] loss: 0.059\n",
            "[37] loss: 0.058\n",
            "[38] loss: 0.058\n",
            "[39] loss: 0.056\n",
            "[40] loss: 0.054\n",
            "[41] loss: 0.053\n",
            "[42] loss: 0.052\n",
            "[43] loss: 0.052\n",
            "[44] loss: 0.050\n",
            "[45] loss: 0.050\n",
            "[46] loss: 0.049\n",
            "[47] loss: 0.048\n",
            "[48] loss: 0.048\n",
            "[49] loss: 0.047\n",
            "[50] loss: 0.046\n",
            "[51] loss: 0.045\n",
            "[52] loss: 0.044\n",
            "[53] loss: 0.044\n",
            "[54] loss: 0.043\n",
            "[55] loss: 0.042\n",
            "[56] loss: 0.042\n",
            "[57] loss: 0.041\n",
            "[58] loss: 0.041\n",
            "[59] loss: 0.040\n",
            "[60] loss: 0.039\n",
            "[61] loss: 0.040\n",
            "[62] loss: 0.039\n",
            "[63] loss: 0.038\n",
            "[64] loss: 0.038\n",
            "[65] loss: 0.037\n",
            "[66] loss: 0.037\n",
            "[67] loss: 0.037\n",
            "[68] loss: 0.036\n",
            "[69] loss: 0.036\n",
            "[70] loss: 0.036\n",
            "[71] loss: 0.035\n",
            "[72] loss: 0.035\n",
            "[73] loss: 0.034\n",
            "[74] loss: 0.034\n",
            "[75] loss: 0.035\n",
            "[76] loss: 0.033\n",
            "[77] loss: 0.034\n",
            "[78] loss: 0.033\n",
            "[79] loss: 0.032\n",
            "[80] loss: 0.032\n",
            "[81] loss: 0.032\n",
            "[82] loss: 0.032\n",
            "[83] loss: 0.031\n",
            "[84] loss: 0.031\n",
            "[85] loss: 0.031\n",
            "[86] loss: 0.031\n",
            "[87] loss: 0.031\n",
            "[88] loss: 0.030\n",
            "[89] loss: 0.031\n",
            "[90] loss: 0.030\n",
            "[91] loss: 0.030\n",
            "[92] loss: 0.030\n",
            "[93] loss: 0.029\n",
            "[94] loss: 0.029\n",
            "[95] loss: 0.029\n",
            "[96] loss: 0.029\n",
            "[97] loss: 0.028\n",
            "[98] loss: 0.028\n",
            "[99] loss: 0.028\n",
            "[100] loss: 0.028\n",
            "Finished Training\n",
            "Saved Model\n"
          ],
          "name": "stdout"
        }
      ]
    },
    {
      "cell_type": "markdown",
      "metadata": {
        "id": "G8FmA6zWq2wW",
        "colab_type": "text"
      },
      "source": [
        "Running student model on test set"
      ]
    },
    {
      "cell_type": "code",
      "metadata": {
        "id": "s1fxqFeILgTp",
        "colab_type": "code",
        "outputId": "4ab19dfb-bcf8-4100-8fab-10f758eb3009",
        "colab": {
          "base_uri": "https://localhost:8080/",
          "height": 653
        }
      },
      "source": [
        "stud_net = Model(hidden_size = 800).to(device)\n",
        "stud_net.load_state_dict(torch.load(STUD_PATH))\n",
        "\n",
        "# Run model on test set and determine accuracy\n",
        "correct = 0\n",
        "total = 0\n",
        "wrong = np.zeros((10,10))\n",
        "with torch.no_grad():\n",
        "    for data in testloader:\n",
        "        inputs, labels = data\n",
        "        inputs = torch.flatten(inputs, start_dim=1).to(device)\n",
        "        target = convert_labels(labels).to(device)\n",
        "        outputs = stud_net(inputs)\n",
        "        _, predicted = torch.max(outputs.data, 1)\n",
        "        _, target = torch.max(target.data, 1)\n",
        "        total += target.size(0)\n",
        "        correct += (predicted == target).sum().item()\n",
        "        for i, val in enumerate(predicted):\n",
        "          if val != target[i]:\n",
        "            wrong[target[i]][val] += 1\n",
        "\n",
        "# Output model accuracy to user\n",
        "print('Accuracy of the network on the 10000 test images: %d %% (%d wrong out of %d)' % (\n",
        "    100 * correct / total, total - correct, total))\n",
        "print(\" \"+str([0,1,2,3,4,5,6,7,8,9]))\n",
        "print(wrong)\n",
        "\n",
        "# Plot confusion matrix\n",
        "df_cm = pd.DataFrame(wrong, index = [i for i in \"0123456789\"],\n",
        "                  columns = [i for i in \"0123456789\"])\n",
        "plt.figure(figsize = (10,7))\n",
        "sn.heatmap(df_cm, annot=True)"
      ],
      "execution_count": 65,
      "outputs": [
        {
          "output_type": "stream",
          "text": [
            "Accuracy of the network on the 10000 test images: 98 % (156 wrong out of 10000)\n",
            " [0, 1, 2, 3, 4, 5, 6, 7, 8, 9]\n",
            "[[ 0.  0.  0.  0.  1.  0.  4.  1.  2.  1.]\n",
            " [ 0.  0.  2.  1.  0.  0.  1.  0.  0.  0.]\n",
            " [ 5.  5.  0.  1.  3.  0.  0.  3.  3.  0.]\n",
            " [ 0.  0.  3.  0.  0.  4.  0.  2.  3.  4.]\n",
            " [ 0.  0.  0.  0.  0.  0.  3.  0.  0.  3.]\n",
            " [ 2.  0.  0. 10.  1.  0.  2.  1.  0.  0.]\n",
            " [ 2.  2.  0.  0.  5.  1.  0.  0.  1.  0.]\n",
            " [ 1.  5.  8.  0.  1.  0.  0.  0.  1.  8.]\n",
            " [ 4.  1.  3.  2.  1.  2.  6.  3.  0.  1.]\n",
            " [ 1.  2.  0.  7. 10.  3.  1.  1.  2.  0.]]\n"
          ],
          "name": "stdout"
        },
        {
          "output_type": "execute_result",
          "data": {
            "text/plain": [
              "<matplotlib.axes._subplots.AxesSubplot at 0x7fac3055a7b8>"
            ]
          },
          "metadata": {
            "tags": []
          },
          "execution_count": 65
        },
        {
          "output_type": "display_data",
          "data": {
            "image/png": "[encoded data removed]",
            "text/plain": [
              "<Figure size 720x504 with 2 Axes>"
            ]
          },
          "metadata": {
            "tags": [],
            "needs_background": "light"
          }
        }
      ]
    },
    {
      "cell_type": "markdown",
      "metadata": {
        "id": "uTd-QxTTPBh5",
        "colab_type": "text"
      },
      "source": [
        "Training student model on test set without a digit"
      ]
    },
    {
      "cell_type": "code",
      "metadata": {
        "id": "mpFdPs4qPAvC",
        "colab_type": "code",
        "colab": {
          "base_uri": "https://localhost:8080/",
          "height": 1000
        },
        "outputId": "1cd3692a-19a3-4199-c251-191a97655a92"
      },
      "source": [
        "# Setup student model and move it to the GPU\n",
        "student_net = Model(hidden_size = 800)\n",
        "student_net.to(device)\n",
        "\n",
        "# Set up optimizer\n",
        "optimizer = optim.SGD(student_net.parameters(), lr=0.001, momentum=0.9)\n",
        "\n",
        "# Run over 100 epochs (1 epoch = visited all items in dataset)\n",
        "for epoch in range(100):\n",
        "    running_loss = 0.0\n",
        "    total = 0\n",
        "    for i, data in enumerate(trainloader_noDigit, 0):\n",
        "      \n",
        "        # get the inputs; data is a list of [inputs, labels]\n",
        "        inputs, labels = data\n",
        "        inputs = torch.flatten(inputs, start_dim=1).to(device)\n",
        "        target = labels.to(device).long()\n",
        "        \n",
        "        # zero the parameter gradients\n",
        "        optimizer.zero_grad()\n",
        "\n",
        "        # Set temperature and the weights for losses linear combination\n",
        "        w = 0.3\n",
        "        T = 20\n",
        "\n",
        "        # Compute soft labels using deep teacher model previously trained\n",
        "        outputs_teacher = net(inputs)\n",
        "\n",
        "        # Student forward + backward + optimize\n",
        "        outputs_stud = student_net(inputs)\n",
        "        \n",
        "        loss = student_loss(outputs_stud, target, outputs_teacher, w, T)\n",
        "        loss.backward()\n",
        "        optimizer.step()\n",
        "\n",
        "        total += len(data)\n",
        "\n",
        "        # print statistics\n",
        "        running_loss += loss.item()\n",
        "    # print every epoch\n",
        "    print('[%d] loss: %.3f' % (epoch + 1, running_loss / total))\n",
        "\n",
        "print('Finished Training')\n",
        "\n",
        "# Save model after having finished training\n",
        "STUD_PATH = './mnist_student_no_digit.pth'\n",
        "torch.save(student_net.state_dict(), STUD_PATH)\n",
        "\n",
        "print('Saved Model')"
      ],
      "execution_count": 66,
      "outputs": [
        {
          "output_type": "stream",
          "text": [
            "/usr/local/lib/python3.6/dist-packages/torch/nn/functional.py:1958: UserWarning: reduction: 'mean' divides the total loss by both the batch size and the support size.'batchmean' divides only by the batch size, and aligns with the KL div math definition.'mean' will be changed to behave the same as 'batchmean' in the next major release.\n",
            "  warnings.warn(\"reduction: 'mean' divides the total loss by both the batch size and the support size.\"\n"
          ],
          "name": "stderr"
        },
        {
          "output_type": "stream",
          "text": [
            "[1] loss: 0.880\n",
            "[2] loss: 0.532\n",
            "[3] loss: 0.443\n",
            "[4] loss: 0.404\n",
            "[5] loss: 0.371\n",
            "[6] loss: 0.348\n",
            "[7] loss: 0.320\n",
            "[8] loss: 0.293\n",
            "[9] loss: 0.268\n",
            "[10] loss: 0.244\n",
            "[11] loss: 0.221\n",
            "[12] loss: 0.204\n",
            "[13] loss: 0.186\n",
            "[14] loss: 0.171\n",
            "[15] loss: 0.158\n",
            "[16] loss: 0.148\n",
            "[17] loss: 0.136\n",
            "[18] loss: 0.129\n",
            "[19] loss: 0.121\n",
            "[20] loss: 0.114\n",
            "[21] loss: 0.107\n",
            "[22] loss: 0.103\n",
            "[23] loss: 0.097\n",
            "[24] loss: 0.094\n",
            "[25] loss: 0.089\n",
            "[26] loss: 0.085\n",
            "[27] loss: 0.082\n",
            "[28] loss: 0.078\n",
            "[29] loss: 0.075\n",
            "[30] loss: 0.074\n",
            "[31] loss: 0.071\n",
            "[32] loss: 0.068\n",
            "[33] loss: 0.067\n",
            "[34] loss: 0.064\n",
            "[35] loss: 0.063\n",
            "[36] loss: 0.061\n",
            "[37] loss: 0.060\n",
            "[38] loss: 0.058\n",
            "[39] loss: 0.057\n",
            "[40] loss: 0.055\n",
            "[41] loss: 0.053\n",
            "[42] loss: 0.053\n",
            "[43] loss: 0.051\n",
            "[44] loss: 0.051\n",
            "[45] loss: 0.050\n",
            "[46] loss: 0.049\n",
            "[47] loss: 0.048\n",
            "[48] loss: 0.047\n",
            "[49] loss: 0.046\n",
            "[50] loss: 0.046\n",
            "[51] loss: 0.044\n",
            "[52] loss: 0.044\n",
            "[53] loss: 0.043\n",
            "[54] loss: 0.043\n",
            "[55] loss: 0.042\n",
            "[56] loss: 0.042\n",
            "[57] loss: 0.041\n",
            "[58] loss: 0.040\n",
            "[59] loss: 0.040\n",
            "[60] loss: 0.039\n",
            "[61] loss: 0.038\n",
            "[62] loss: 0.039\n",
            "[63] loss: 0.038\n",
            "[64] loss: 0.037\n",
            "[65] loss: 0.037\n",
            "[66] loss: 0.036\n",
            "[67] loss: 0.035\n",
            "[68] loss: 0.036\n",
            "[69] loss: 0.036\n",
            "[70] loss: 0.035\n",
            "[71] loss: 0.034\n",
            "[72] loss: 0.034\n",
            "[73] loss: 0.033\n",
            "[74] loss: 0.033\n",
            "[75] loss: 0.033\n",
            "[76] loss: 0.033\n",
            "[77] loss: 0.033\n",
            "[78] loss: 0.032\n",
            "[79] loss: 0.031\n",
            "[80] loss: 0.032\n",
            "[81] loss: 0.031\n",
            "[82] loss: 0.031\n",
            "[83] loss: 0.031\n",
            "[84] loss: 0.031\n",
            "[85] loss: 0.030\n",
            "[86] loss: 0.030\n",
            "[87] loss: 0.030\n",
            "[88] loss: 0.030\n",
            "[89] loss: 0.030\n",
            "[90] loss: 0.030\n",
            "[91] loss: 0.029\n",
            "[92] loss: 0.029\n",
            "[93] loss: 0.029\n",
            "[94] loss: 0.028\n",
            "[95] loss: 0.028\n",
            "[96] loss: 0.028\n",
            "[97] loss: 0.028\n",
            "[98] loss: 0.028\n",
            "[99] loss: 0.027\n",
            "[100] loss: 0.027\n",
            "Finished Training\n",
            "Saved Model\n"
          ],
          "name": "stdout"
        }
      ]
    },
    {
      "cell_type": "markdown",
      "metadata": {
        "id": "bP-AQ-tphe38",
        "colab_type": "text"
      },
      "source": [
        "Test student traint on digitless training set\n"
      ]
    },
    {
      "cell_type": "code",
      "metadata": {
        "id": "KDKsq9f6hjuk",
        "colab_type": "code",
        "colab": {
          "base_uri": "https://localhost:8080/",
          "height": 652
        },
        "outputId": "78914916-5060-4074-856e-d68a39fcb405"
      },
      "source": [
        "stud_net = Model(hidden_size = 800).to(device)\n",
        "stud_net.load_state_dict(torch.load(STUD_PATH))\n",
        "\n",
        "# Run model on test set and determine accuracy\n",
        "correct = 0\n",
        "total = 0\n",
        "wrong = np.zeros((10,10))\n",
        "with torch.no_grad():\n",
        "    for data in testloader:\n",
        "        inputs, labels = data\n",
        "        inputs = torch.flatten(inputs, start_dim=1).to(device)\n",
        "        target = convert_labels(labels).to(device)\n",
        "        outputs = stud_net(inputs)\n",
        "        _, predicted = torch.max(outputs.data, 1)\n",
        "        _, target = torch.max(target.data, 1)\n",
        "        total += target.size(0)\n",
        "        correct += (predicted == target).sum().item()\n",
        "        for i, val in enumerate(predicted):\n",
        "          if val != target[i]:\n",
        "            wrong[target[i]][val] += 1\n",
        "\n",
        "# Output model accuracy to user\n",
        "print('Accuracy of the network on the 10000 test images: %d %% (%d wrong out of %d)' % (\n",
        "    100 * correct / total, total - correct, total))\n",
        "print(\" \"+str([0,1,2,3,4,5,6,7,8,9]))\n",
        "print(wrong)\n",
        "\n",
        "# Plot confusion matrix\n",
        "df_cm = pd.DataFrame(wrong, index = [i for i in \"0123456789\"],\n",
        "                  columns = [i for i in \"0123456789\"])\n",
        "plt.figure(figsize = (10,7))\n",
        "sn.heatmap(df_cm, annot=True)"
      ],
      "execution_count": 67,
      "outputs": [
        {
          "output_type": "stream",
          "text": [
            "Accuracy of the network on the 10000 test images: 92 % (793 wrong out of 10000)\n",
            " [0, 1, 2, 3, 4, 5, 6, 7, 8, 9]\n",
            "[[  0.   0.   0.   0.   0.   0.   1.   1.   2.   0.]\n",
            " [  0.   0.   2.   0.   0.   0.   1.   0.   1.   0.]\n",
            " [  5.   0.   0.   0.   1.   0.   0.   6.   5.   0.]\n",
            " [  0.   3.  51.   0.   0. 351.   0.  25. 167.  82.]\n",
            " [  0.   0.   1.   0.   0.   0.   3.   0.   1.   7.]\n",
            " [  2.   0.   0.   0.   0.   0.   3.   1.   4.   2.]\n",
            " [  3.   3.   0.   0.   1.   2.   0.   0.   2.   0.]\n",
            " [  0.   3.   9.   0.   1.   0.   0.   0.   2.   3.]\n",
            " [  4.   0.   2.   0.   0.   2.   3.   2.   0.   1.]\n",
            " [  0.   3.   0.   1.   6.   4.   2.   3.   3.   0.]]\n"
          ],
          "name": "stdout"
        },
        {
          "output_type": "execute_result",
          "data": {
            "text/plain": [
              "<matplotlib.axes._subplots.AxesSubplot at 0x7fac309a0da0>"
            ]
          },
          "metadata": {
            "tags": []
          },
          "execution_count": 67
        },
        {
          "output_type": "display_data",
          "data": {
            "image/png": "[encoded data removed]",
            "text/plain": [
              "<Figure size 720x504 with 2 Axes>"
            ]
          },
          "metadata": {
            "tags": [],
            "needs_background": "light"
          }
        }
      ]
    }
  ]
}